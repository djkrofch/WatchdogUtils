{
 "cells": [
  {
   "cell_type": "markdown",
   "metadata": {},
   "source": [
    "## Watchdog data prep and visualization\n",
    "This batch of code is intended to manage the meterologic data collected by the network of Watchdog 2000 series loggers deployed across the JFSP 2015 experimental gradient. Generally, this notebook will build a programmatic way to read in overlapping or discontinuous met records from a single station, generate unique timestamp information for each record, associate each logger with metadata, perform cursory QA/QC steps, and concatenate the data into a single met record.\n",
    "\n",
    "Ultimately, a portion of the steps developed here will be packaged into executables and ran each time the data are downloaded by a field technician, ideally aiding the technician in performing on-site QA/QC prior to leaving the field."
   ]
  },
  {
   "cell_type": "markdown",
   "metadata": {},
   "source": [
    "### Load notebook dependencies\n",
    "and configure notebook aesthetic preferences"
   ]
  },
  {
   "cell_type": "code",
   "execution_count": 26,
   "metadata": {
    "collapsed": false
   },
   "outputs": [],
   "source": [
    "# ------- Notebook config\n",
    "%matplotlib inline\n",
    "import matplotlib.colors\n",
    "import matplotlib.pyplot as plt\n",
    "\n",
    "# ------- Load dependencies\n",
    "import pandas as pd\n",
    "import numpy as np\n",
    "import seaborn as sns\n",
    "import os\n",
    "\n",
    "# ------- Plot environment aesthetics\n",
    "sns.set_style('ticks')\n",
    "sns.set_context('notebook', font_scale=2)\n",
    "\n",
    "dataDir = 'Z:/JFSP_2015/Weather Stations/Data/Exports/'\n",
    "outDir = 'Z:/JFSP_2015/Weather Stations/Data/Vis/Diagnostics/'\n"
   ]
  },
  {
   "cell_type": "markdown",
   "metadata": {},
   "source": [
    "### Processing steps:\n",
    "#### Generate a list of files in the 'Exports' directory\n",
    "Then parse the strings of the exported .txt files to extract station ID, station locale, and if need be down the road, the download date.\n",
    "\n",
    "#### Fix up the timestamps\n",
    "This just relates to naming and additional column generation. Rename the initial timestamp column, and extract day of year, month, year, and hour for easy resampling and averaging later on. This will also make adjusting time stamps for incorrect clocks or offsets much easier as well.\n",
    "\n",
    "#### Create a quick panel of the variables of interest\n",
    "Generally step through each column that has data in the met record and plot it. This is a crude output, first pass sort of plotting.\n",
    "\n",
    "#### Create a variable by variable QA/QC framework\n",
    "There are two types of measurements made by the watchdogs: core and ancillary. The core measurements are the air temperature, relative humidity, anemometer measurements, rainfall, and some calculated variables derived from those core measurements. Ancillary measurements come from sensors plugged into the watchdog's logger. Currently, we record two soil temperature and two soil moisture measurements at each logger (a pair 5 cm under shrubs, and a pair 5cm in the open)."
   ]
  },
  {
   "cell_type": "code",
   "execution_count": 48,
   "metadata": {
    "collapsed": false
   },
   "outputs": [],
   "source": [
    "# Quickly list all the files in the data directory\n",
    "fileList = next(os.walk(dataDir))[2]\n",
    "\n",
    "# parseAndReadMetData:\n",
    "# Summary: Parses file name to gather metadata, appends to read in pandas dataframe\n",
    "#\n",
    "# Inputs  - fname (full file path of met data file)\n",
    "# Returns - df    (pandas dataframe with logger location and station ID)\n",
    "def parseAndReadMetData(fname):\n",
    "    location       = fname.split('_')[0]\n",
    "    stationNum     = fname.split('_')[1]\n",
    "    df             = pd.read_csv(dataDir + fname, sep = '\\t', skiprows=3)\n",
    "    df['Locale']   = location\n",
    "    df['LoggerID'] = int(stationNum)\n",
    "    return df\n",
    "\n",
    "# prepareTimeStamps:\n",
    "# Summary: generates time pandas date-time timestamps from time column, renames and adds\n",
    "# time variables.\n",
    "#\n",
    "# Inputs  - df (pandas dataframe with logger location and station ID\n",
    "# Returns - metdf (pandas dataframe with appended time stamp information)\n",
    "def prepareTimeStamps(df):\n",
    "    df.rename(columns = {'Date and Time   ':'Timestamp'}, inplace = True)\n",
    "    df.index    = pd.to_datetime(df['Timestamp'])\n",
    "    df['doy']   = df.index.dayofyear\n",
    "    df['month'] = df.index.month\n",
    "    df['year']  = df.index.year\n",
    "    df['hour']  = df.index.hour\n",
    "    return df\n",
    "\n",
    "# rawSummaryPlots:\n",
    "# Summary: Creates seven subplots for the main variables output by the Watchdog 2000\n",
    "# series loggers. Saves the plot with a site and station ID specific file name.\n",
    "\n",
    "# Inputs  - df (pandas dataframe with complete timestamps)\n",
    "#         - outDir (/path/where/output/will/be/saved/)\n",
    "# Returns - null\n",
    "def rawSummaryPlots(df, outDir):\n",
    "        \n",
    "    # Setup plot axes\n",
    "    f, ((ax1, ax2), (ax3, ax4), (ax5, ax6), (ax7, ax8)) = plt.subplots(4,2, figsize = (20,22))\n",
    "    f.delaxes(ax8)\n",
    "\n",
    "    # Soil temperature (sensor ports A and B)\n",
    "    ax1.plot(df.index, df['TMPA'], lw = 3, color = 'gray', label = 'Temp A')\n",
    "    ax1.plot(df.index, df['TMPB'], lw = 3, color = 'green', label = 'Temp B')\n",
    "    ax1.set_title(df['Locale'][0] + ' ' + str(df['LoggerID'][0]))\n",
    "    ax1.set_ylim([-5, 20])\n",
    "    ax1.set_ylabel('Soil Temperature (deg C)')\n",
    "    ax1.set_xticklabels([])\n",
    "    ax1.legend()\n",
    "\n",
    "    # Soil VWC (sensor ports C and D)\n",
    "    ax2.plot(df.index, df['VWCC'], lw = 3, color = 'gray', \n",
    "             label = 'VWC C')\n",
    "    ax2.plot(df.index, df['VWCD'], lw = 3, color = 'green', \n",
    "             label = 'VWC D')\n",
    "    ax2.set_ylim([0, 40])\n",
    "    ax2.set_ylabel('Volumetric Water Content (%)')\n",
    "    ax2.set_xticklabels([])\n",
    "    ax2.legend()\n",
    "\n",
    "    # rH \n",
    "    ax3.plot(df.index, df['HMD'], lw = 2, color = 'black')\n",
    "    ax3.set_ylabel('Relative Humidity (%)')\n",
    "    ax3.set_xticklabels([])\n",
    "\n",
    "    # TA \n",
    "    ax4.plot(df.index, df['TMP'], lw = 2, color = 'black')\n",
    "    ax4.set_ylabel('Air Temperature (deg C)')\n",
    "    ax4.set_xticklabels([])\n",
    "    ax4.legend()\n",
    "\n",
    "    # Wind velocity \n",
    "    ax5.plot(df.index, df['WNG'], lw = 1, color = 'gray', \n",
    "             label = 'Gusts', alpha = 0.5)\n",
    "    ax5.plot(df.index, df['WNS'], lw = 1, color = 'black', \n",
    "             label = 'Wind Speed')\n",
    "    ax5.set_ylabel('Wind Speed (km h$^{-1}$)')\n",
    "    ax5.set_xticklabels([])\n",
    "\n",
    "    # Wind direction\n",
    "    ax6.plot(df.index, df['WND'], lw = 2, color = 'black')\n",
    "    ax6.set_ylabel('Wind Direction (deg)')\n",
    "    ax6.set_ylim([0,360])\n",
    "    plt.setp(ax6.get_xticklabels(), rotation = 45)\n",
    "\n",
    "    # Precip\n",
    "    ax7.plot(df.index, df['RNF'], lw = 2, color = 'black')\n",
    "    ax7.set_ylabel('Precipitation (mm)')\n",
    "    plt.setp(ax7.get_xticklabels(), rotation = 45)\n",
    "\n",
    "    sns.despine()\n",
    "\n",
    "    # Create the file name and save the figure\n",
    "    plotStationName = df['Locale'][0] + '_' + str(df['LoggerID'][0]) + '_'\n",
    "    plt.savefig(outDir + plotStationName + 'RawSummary.tif')"
   ]
  },
  {
   "cell_type": "code",
   "execution_count": null,
   "metadata": {
    "collapsed": false
   },
   "outputs": [],
   "source": [
    "# Diagnostic plot creation\n",
    "# Usage: Step through the three functions defined above, in a loop where the \n",
    "#        loop iterator is the file name in the list of met station data files.\n",
    "#        The result will be the production of a list of .tif files, one for each\n",
    "#        met station.\n",
    "\n",
    "\n",
    "# for metfile in fileList:\n",
    "#    metdf = parseAndReadMetData(metfile)\n",
    "#    metdf_a = prepareTimeStamps(metdf)\n",
    "#    rawSummaryPlots(metdf_a, outDir)"
   ]
  },
  {
   "cell_type": "markdown",
   "metadata": {},
   "source": []
  }
 ],
 "metadata": {
  "kernelspec": {
   "display_name": "Python 2",
   "language": "python",
   "name": "python2"
  },
  "language_info": {
   "codemirror_mode": {
    "name": "ipython",
    "version": 2
   },
   "file_extension": ".py",
   "mimetype": "text/x-python",
   "name": "python",
   "nbconvert_exporter": "python",
   "pygments_lexer": "ipython2",
   "version": "2.7.12"
  }
 },
 "nbformat": 4,
 "nbformat_minor": 0
}
