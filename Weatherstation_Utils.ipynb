{
 "cells": [
  {
   "cell_type": "markdown",
   "metadata": {},
   "source": [
    "## Watchdog data prep and visualization\n",
    "This batch of code is intended to manage the meterologic data collected by the network of Watchdog 2000 series loggers deployed across the JFSP 2015 experimental gradient. Generally, this notebook will build a programmatic way to read in overlapping or discontinuous met records from a single station, generate unique timestamp information for each record, associate each logger with metadata, perform cursory QA/QC steps, and concatenate the data into a single met record.\n",
    "\n",
    "Ultimately, a portion of the steps developed here will be packaged into executables and ran each time the data are downloaded by a field technician, ideally aiding the technician in performing on-site QA/QC prior to leaving the field."
   ]
  },
  {
   "cell_type": "markdown",
   "metadata": {},
   "source": [
    "### Load notebook dependencies\n",
    "and configure notebook aesthetic preferences"
   ]
  },
  {
   "cell_type": "code",
   "execution_count": 4,
   "metadata": {
    "collapsed": false
   },
   "outputs": [],
   "source": [
    "# ------- Notebook config\n",
    "%matplotlib inline\n",
    "import matplotlib.colors\n",
    "import matplotlib.pyplot as plt\n",
    "\n",
    "# ------- Load dependencies\n",
    "import pandas as pd\n",
    "import numpy as np\n",
    "import seaborn as sns\n",
    "import os\n",
    "\n",
    "# ------- Watchdog utils\n",
    "from watchdogutils import *\n",
    "\n",
    "# ------- Plot environment aesthetics\n",
    "sns.set_style('ticks')\n",
    "sns.set_context('notebook', font_scale=1.2)\n",
    "\n",
    "dataDir = 'Z:/JFSP_2015/Weather Stations/Data/Exports/2_6_18/'\n",
    "outDir = 'Z:/JFSP_2015/Weather Stations/Data/Vis/Diagnostics/'\n"
   ]
  },
  {
   "cell_type": "markdown",
   "metadata": {},
   "source": [
    "### Processing steps:\n",
    "#### Generate a list of files in the 'Exports' directory\n",
    "Then parse the strings of the exported .txt files to extract station ID, station locale, and if need be down the road, the download date.\n",
    "\n",
    "#### Fix up the timestamps\n",
    "This just relates to naming and additional column generation. Rename the initial timestamp column, and extract day of year, month, year, and hour for easy resampling and averaging later on. This will also make adjusting time stamps for incorrect clocks or offsets much easier as well.\n",
    "\n",
    "#### Create a quick panel of the variables of interest\n",
    "Generally step through each column that has data in the met record and plot it. This is a crude output, first pass sort of plotting.\n",
    "\n",
    "#### Create a variable by variable QA/QC framework\n",
    "There are two types of measurements made by the watchdogs: core and ancillary. The core measurements are the air temperature, relative humidity, anemometer measurements, rainfall, and some calculated variables derived from those core measurements. Ancillary measurements come from sensors plugged into the watchdog's logger. Currently, we record two soil temperature and two soil moisture measurements at each logger (a pair 5 cm under shrubs, and a pair 5cm in the open)."
   ]
  },
  {
   "cell_type": "code",
   "execution_count": 5,
   "metadata": {
    "collapsed": false
   },
   "outputs": [
    {
     "data": {
      "text/plain": [
       "['Jemez_8_2_6_18.txt',\n",
       " 'Jemez_5_2_6_18.txt',\n",
       " 'Jemez_3_2_6_18.txt',\n",
       " 'Jemez_4_2_6_18.txt',\n",
       " 'Jemez_1_2_6_18.txt',\n",
       " 'Jemez_6_2_6_18.txt',\n",
       " 'Jemez_7_2_6_18.txt',\n",
       " 'Jemez_9_2_6_18.txt',\n",
       " 'Jemez_10_2_6_18.txt',\n",
       " 'Jemez_2_2_6_18.txt']"
      ]
     },
     "execution_count": 5,
     "metadata": {},
     "output_type": "execute_result"
    }
   ],
   "source": [
    "# Quickly list all the files in the data directory\n",
    "fileList = next(os.walk(dataDir))[2]\n",
    "fileList"
   ]
  },
  {
   "cell_type": "markdown",
   "metadata": {},
   "source": [
    "### The above scripts are rolled into a loop \n",
    "that iterates over the entire list of climate files. The result is the creation of time series of raw and cleaned primary and ancillary measurements made at each weather station, as well as some diagnostic plots that show the QAQC steps that were taken to clean VWC and TMP. "
   ]
  },
  {
   "cell_type": "code",
   "execution_count": 6,
   "metadata": {
    "collapsed": false
   },
   "outputs": [],
   "source": [
    "# Diagnostic plot creation\n",
    "# Usage: Step through the three functions defined above, in a loop where the \n",
    "#        loop iterator is the file name in the list of met station data files.\n",
    "#        The result will be the production of a list of .tif files, one for each\n",
    "#        met station. The auxilliary sensors then get cleaned using a median filter\n",
    "#        and diagnostic QA/QC plots are produced showing which points are replaced\n",
    "#        with NaN.\n",
    "\n",
    "import warnings\n",
    "warnings.filterwarnings('ignore')\n",
    "\n",
    "for metfile in fileList:  \n",
    "    metdf = parseAndReadMetData(dataDir, metfile)\n",
    "    metdf_a = prepareTimeStamps(metdf)\n",
    "    rawSummaryPlots(metdf_a, outDir)\n",
    "    plotWindRose(metdf_a, outDir)\n",
    "\n",
    "    cleanVWC(metdf_a, outDir)\n",
    "    cleanTMP(metdf_a, outDir)\n",
    "    filteredDF = metdf_a['Locale'][0] + '_' + str(metdf_a['LoggerID'][0]) + '_filtered.csv'\n",
    "    metdf_a.to_csv('Z:/JFSP_2015/Weather Stations/Data/Filtered/' + filteredDF)\n",
    "    tempSummaryPlot(metdf_a)\n",
    "    precipSummaryPlot(metdf_a)\n",
    "    VWCSummaryPlot(metdf_a)\n",
    "\n",
    "warnings.filterwarnings('default')"
   ]
  },
  {
   "cell_type": "markdown",
   "metadata": {},
   "source": [
    "### Generating precip summary figures -- single site\n",
    "for each site is the next goal. We want a quick figure that shows the cumulative rainfall, min, mean, max, and variance of temperature (air, soil), and same for VWC, by cover. Bar and box plots make the most sense here, maybe by month to start. Given time stamps we generated, we should have access to the .month attribute for easy grouping in the pandas dataframe. Start by creating cumulative precip for a single plot, by month."
   ]
  },
  {
   "cell_type": "code",
   "execution_count": 4,
   "metadata": {
    "collapsed": false
   },
   "outputs": [],
   "source": [
    "#example"
   ]
  },
  {
   "cell_type": "markdown",
   "metadata": {},
   "source": [
    "### Generating temp summary figures -- single site\n",
    "We should do the same for temperature -- both air and soil temp."
   ]
  },
  {
   "cell_type": "code",
   "execution_count": 5,
   "metadata": {
    "collapsed": false
   },
   "outputs": [],
   "source": [
    "#example"
   ]
  },
  {
   "cell_type": "markdown",
   "metadata": {},
   "source": [
    "### Generating a locale-wide summary\n",
    "The Jemez locale weather stations are tightly clustered along FR 287 just south of the Valles Caldera off of highway 4. Spanning just under 4km, the weather stations are distributed across an elevation gradient of ~200 meters that roughly tracks latitude, ranging from 2392 m to 2591 m.\n",
    "\n",
    "A quick descriptive summary of the means and variances of the met variables by elevation and or aspect will be useful in the future. In order to facilitate generating those plots however, we really need to gather all the met data into a single dataframe, then subset or group by aspect, elevation, etc."
   ]
  },
  {
   "cell_type": "code",
   "execution_count": 6,
   "metadata": {
    "collapsed": false
   },
   "outputs": [],
   "source": [
    "filteredDataDir = 'Z:/JFSP_2015/Weather Stations/Data/Filtered/'\n",
    "fileList = next(os.walk(filteredDataDir))[2]\n",
    "\n",
    "idx = 0\n",
    "for df_f in fileList:\n",
    "    if idx == 0:\n",
    "        allMetData = pd.read_csv(filteredDataDir + df_f)\n",
    "    else:\n",
    "        thisDF = pd.read_csv(filteredDataDir + df_f)\n",
    "        allMetData = pd.concat([thisDF, allMetData])\n",
    "    idx += 1"
   ]
  },
  {
   "cell_type": "code",
   "execution_count": 7,
   "metadata": {
    "collapsed": false
   },
   "outputs": [
    {
     "name": "stderr",
     "output_type": "stream",
     "text": [
      "C:\\Anaconda\\lib\\site-packages\\IPython\\kernel\\__main__.py:6: SettingWithCopyWarning: \n",
      "A value is trying to be set on a copy of a slice from a DataFrame\n",
      "\n",
      "See the caveats in the documentation: http://pandas.pydata.org/pandas-docs/stable/indexing.html#indexing-view-versus-copy\n"
     ]
    }
   ],
   "source": [
    "metadataFN = 'Z:/JFSP_2015/Weather Stations/Weatherstation_Metadata.csv'\n",
    "metadata = pd.read_csv(metadataFN)\n",
    "allMetData['Aspect'] = 'Flat'\n",
    "for ID in np.unique(metadata.LoggerID):\n",
    "    stationAspect = metadata[metadata.LoggerID == ID].iloc[0].Aspect\n",
    "    allMetData.Aspect[allMetData.LoggerID == ID] = stationAspect"
   ]
  },
  {
   "cell_type": "code",
   "execution_count": 8,
   "metadata": {
    "collapsed": false
   },
   "outputs": [
    {
     "ename": "TypeError",
     "evalue": "list indices must be integers, not Series",
     "output_type": "error",
     "traceback": [
      "\u001b[1;31m---------------------------------------------------------------------------\u001b[0m",
      "\u001b[1;31mTypeError\u001b[0m                                 Traceback (most recent call last)",
      "\u001b[1;32m<ipython-input-8-c4ea125dccc5>\u001b[0m in \u001b[0;36m<module>\u001b[1;34m()\u001b[0m\n\u001b[0;32m      2\u001b[0m \u001b[0mindexes\u001b[0m \u001b[1;33m=\u001b[0m \u001b[0mnp\u001b[0m\u001b[1;33m.\u001b[0m\u001b[0munique\u001b[0m\u001b[1;33m(\u001b[0m\u001b[0mallMetData\u001b[0m\u001b[1;33m.\u001b[0m\u001b[0mmonth\u001b[0m\u001b[1;33m,\u001b[0m \u001b[0mreturn_index\u001b[0m\u001b[1;33m=\u001b[0m\u001b[0mTrue\u001b[0m\u001b[1;33m)\u001b[0m\u001b[1;33m[\u001b[0m\u001b[1;36m1\u001b[0m\u001b[1;33m]\u001b[0m\u001b[1;33m\u001b[0m\u001b[0m\n\u001b[0;32m      3\u001b[0m \u001b[0mmonthsInDF\u001b[0m \u001b[1;33m=\u001b[0m \u001b[0mnp\u001b[0m\u001b[1;33m.\u001b[0m\u001b[0marray\u001b[0m\u001b[1;33m(\u001b[0m\u001b[1;33m[\u001b[0m\u001b[0mallMetData\u001b[0m\u001b[1;33m.\u001b[0m\u001b[0mmonth\u001b[0m\u001b[1;33m[\u001b[0m\u001b[0mindex\u001b[0m\u001b[1;33m]\u001b[0m \u001b[1;32mfor\u001b[0m \u001b[0mindex\u001b[0m \u001b[1;32min\u001b[0m \u001b[0msorted\u001b[0m\u001b[1;33m(\u001b[0m\u001b[0mindexes\u001b[0m\u001b[1;33m)\u001b[0m\u001b[1;33m]\u001b[0m\u001b[1;33m)\u001b[0m\u001b[1;33m\u001b[0m\u001b[0m\n\u001b[1;32m----> 4\u001b[1;33m \u001b[0mmonthLabels\u001b[0m \u001b[1;33m=\u001b[0m \u001b[1;33m[\u001b[0m\u001b[0mmonths\u001b[0m\u001b[1;33m[\u001b[0m\u001b[0mi\u001b[0m\u001b[1;33m]\u001b[0m \u001b[1;32mfor\u001b[0m \u001b[0mi\u001b[0m \u001b[1;32min\u001b[0m \u001b[0mmonthsInDF\u001b[0m\u001b[1;33m-\u001b[0m\u001b[1;36m1\u001b[0m\u001b[1;33m]\u001b[0m\u001b[1;33m\u001b[0m\u001b[0m\n\u001b[0m",
      "\u001b[1;31mTypeError\u001b[0m: list indices must be integers, not Series"
     ]
    }
   ],
   "source": [
    "months = ['J','F','M','A','M','J','J','A','S','O','N','D']\n",
    "indexes = np.unique(allMetData.month, return_index=True)[1]\n",
    "monthsInDF = np.array([allMetData.month[index] for index in sorted(indexes)])\n",
    "monthLabels = [months[i] for i in monthsInDF-1]\n"
   ]
  },
  {
   "cell_type": "code",
   "execution_count": null,
   "metadata": {
    "collapsed": false
   },
   "outputs": [],
   "source": [
    "monthsInDF, monthLabels = getMonthLabels(allMetData)\n",
    "\n",
    "\n",
    "sns.boxplot(x=\"month\", y=\"TMP\", data=allMetData, palette=['white','gray'], \n",
    "            hue = 'Aspect', order = monthsInDF)\n",
    "\n"
   ]
  },
  {
   "cell_type": "markdown",
   "metadata": {},
   "source": []
  }
 ],
 "metadata": {
  "kernelspec": {
   "display_name": "Python 2",
   "language": "python",
   "name": "python2"
  },
  "language_info": {
   "codemirror_mode": {
    "name": "ipython",
    "version": 2
   },
   "file_extension": ".py",
   "mimetype": "text/x-python",
   "name": "python",
   "nbconvert_exporter": "python",
   "pygments_lexer": "ipython2",
   "version": "2.7.12"
  }
 },
 "nbformat": 4,
 "nbformat_minor": 0
}
